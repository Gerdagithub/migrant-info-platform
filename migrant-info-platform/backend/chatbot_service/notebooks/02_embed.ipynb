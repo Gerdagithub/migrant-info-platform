{
 "cells": [
  {
   "cell_type": "markdown",
   "id": "8b580e50-e233-4d75-884d-f9ac1abdaedc",
   "metadata": {},
   "source": [
    "#### Importing Libs"
   ]
  },
  {
   "cell_type": "code",
   "execution_count": 2,
   "id": "d9e14711-278a-40f7-9fa8-435be7ea40b5",
   "metadata": {},
   "outputs": [
    {
     "name": "stdout",
     "output_type": "stream",
     "text": [
      "/opt/conda/envs/chatbot/bin/python\n"
     ]
    }
   ],
   "source": [
    "import sys; print(sys.executable)"
   ]
  },
  {
   "cell_type": "code",
   "execution_count": 1,
   "id": "3557c77e-34c4-4915-9e1e-d8c756616f3e",
   "metadata": {},
   "outputs": [
    {
     "name": "stderr",
     "output_type": "stream",
     "text": [
      "/opt/conda/envs/chatbot/lib/python3.9/site-packages/tqdm/auto.py:21: TqdmWarning: IProgress not found. Please update jupyter and ipywidgets. See https://ipywidgets.readthedocs.io/en/stable/user_install.html\n",
      "  from .autonotebook import tqdm as notebook_tqdm\n"
     ]
    }
   ],
   "source": [
    "# Python basics\n",
    "from pprint import pprint\n",
    "import re\n",
    "from typing import List, Dict, Optional, Tuple\n",
    "import json\n",
    "import os\n",
    "import numpy as np\n",
    "\n",
    "# NLP & Embeddings\n",
    "from transformers import AutoTokenizer\n",
    "from sentence_transformers import SentenceTransformer\n",
    "\n",
    "import spacy\n",
    "from spacy.cli import download\n",
    "\n",
    "# Try to load the model, if not present – download it\n",
    "try:\n",
    "    nlp = spacy.load(\"en_core_web_sm\")\n",
    "except OSError:\n",
    "    download(\"en_core_web_sm\")\n",
    "    nlp = spacy.load(\"en_core_web_sm\")\n",
    "\n",
    "import faiss\n",
    "import pickle"
   ]
  },
  {
   "cell_type": "code",
   "execution_count": 2,
   "id": "26f44fe3-d0c2-48be-8063-ed28153ab988",
   "metadata": {},
   "outputs": [
    {
     "name": "stdout",
     "output_type": "stream",
     "text": [
      "✅ FAISS working. GPU count: 2\n"
     ]
    }
   ],
   "source": [
    "print(\"✅ FAISS working. GPU count:\", faiss.get_num_gpus())"
   ]
  },
  {
   "cell_type": "markdown",
   "id": "0be651fb-8d08-46a4-bef5-8dc5c903aaa4",
   "metadata": {},
   "source": [
    "#### Constants"
   ]
  },
  {
   "cell_type": "code",
   "execution_count": 3,
   "id": "5cade024-efd1-46c5-8fb4-6e42d0afb452",
   "metadata": {},
   "outputs": [],
   "source": [
    "from constants import (\n",
    "    CLEANED_DATA_DIR, \n",
    "    SITES_ELEMENTS_JSON_PATH,\n",
    "    URL_PATTERN, \n",
    "    REPLACED_URL_MAP_PATH, \n",
    "    SITES_ELEMENTS_WITH_REPLACED_URLS_PATH,\n",
    "    TOKENIZING_MODEL,\n",
    "    EMBEDDING_MODEL,\n",
    "    MAX_TOKENS, \n",
    "    OVERLAP,\n",
    "    FAISS_INDEX_PATH,\n",
    "    FAISS_METADATA_PATH\n",
    ")"
   ]
  },
  {
   "cell_type": "markdown",
   "id": "2c06db7a-f0a9-4d69-b2f7-dfa8f16446cc",
   "metadata": {},
   "source": [
    "#### Tokenizer & Embedding Model Setup"
   ]
  },
  {
   "cell_type": "code",
   "execution_count": 4,
   "id": "004ca9ec-78ad-4257-a9bd-7184d99e0312",
   "metadata": {},
   "outputs": [],
   "source": [
    "tokenizer = AutoTokenizer.from_pretrained(TOKENIZING_MODEL)\n",
    "embedding_model = SentenceTransformer(EMBEDDING_MODEL, device=\"cuda\")"
   ]
  },
  {
   "cell_type": "markdown",
   "id": "fbf0fad1-fd4a-45b7-95b9-dc7ea912689a",
   "metadata": {
    "jp-MarkdownHeadingCollapsed": true
   },
   "source": [
    "#### Handle urls"
   ]
  },
  {
   "cell_type": "code",
   "execution_count": 4,
   "id": "aafb0e48-a086-487a-87d9-dea2d005e72a",
   "metadata": {},
   "outputs": [],
   "source": [
    "def is_url_saved(saved_urls: Dict[str, str], url: str):\n",
    "    for saved_url_label, saved_url in saved_urls.items():\n",
    "        if saved_url == url:\n",
    "            return saved_url_label\n",
    "    return False\n",
    "\n",
    "def extract_and_replace_urls(\n",
    "    text: str, last_url_number: int, \n",
    "    replaced_url_map: Dict[str, str], \n",
    "    url_pattern: str = URL_PATTERN\n",
    ") -> (str, int):\n",
    "    urls = re.findall(url_pattern, text)\n",
    "    for url in urls:\n",
    "        saved_url_label = is_url_saved(replaced_url_map, url)\n",
    "        if isinstance(saved_url_label, str):\n",
    "            placeholder = saved_url_label\n",
    "        else:\n",
    "            placeholder = f\"[URL_{last_url_number}]\"\n",
    "            last_url_number += 1\n",
    "            replaced_url_map[placeholder] = url\n",
    "        \n",
    "        text = text.replace(f\"[{url}]\", placeholder)\n",
    "    return text, last_url_number"
   ]
  },
  {
   "cell_type": "code",
   "execution_count": 5,
   "id": "cfdd4f56-a428-4c7f-8748-405f53ae2c1e",
   "metadata": {},
   "outputs": [],
   "source": [
    "sites_elements_with_replaced_urls = []\n",
    "last_url_number = 0\n",
    "\n",
    "if os.path.exists(REPLACED_URL_MAP_PATH):\n",
    "    with open(REPLACED_URL_MAP_PATH, 'r', encoding='utf-8') as file_m:\n",
    "        replaced_url_map = json.load(file_m)\n",
    "else:\n",
    "    replaced_url_map = {}\n",
    "\n",
    "if os.path.exists(SITES_ELEMENTS_JSON_PATH):\n",
    "    with open(SITES_ELEMENTS_JSON_PATH, 'r', encoding='utf-8') as file_s:\n",
    "        sites_elements = json.load(file_s)\n",
    "else:\n",
    "    sites_elements = []\n",
    "\n",
    "for site_element in sites_elements:\n",
    "    site_element_with_replaced_urls, last_url_number = extract_and_replace_urls(site_element['text'], last_url_number, replaced_url_map, URL_PATTERN)\n",
    "    site_element_with_replaced_urls = {\n",
    "        'text': site_element_with_replaced_urls,\n",
    "        'source': site_element['source']\n",
    "    }\n",
    "    sites_elements_with_replaced_urls.append(site_element_with_replaced_urls)\n",
    "    \n",
    "with open(SITES_ELEMENTS_WITH_REPLACED_URLS_PATH, \"w\", encoding=\"utf-8\") as f:\n",
    "    json.dump(sites_elements_with_replaced_urls, f, ensure_ascii=False, indent=4)\n",
    "\n",
    "with open(REPLACED_URL_MAP_PATH, \"w\", encoding=\"utf-8\") as f:\n",
    "    json.dump(replaced_url_map, f, ensure_ascii=False, indent=4)"
   ]
  },
  {
   "cell_type": "markdown",
   "id": "eaf5297f-4764-4f2f-9e0e-3c75745a6c1e",
   "metadata": {},
   "source": [
    "#### Chunking and Tokenizing"
   ]
  },
  {
   "cell_type": "code",
   "execution_count": null,
   "id": "32df5811-2acf-45a3-8588-0b857e879f41",
   "metadata": {},
   "outputs": [],
   "source": [
    "def sentence_aware_chunks(text: str, max_tokens: Optional[int] = 400, overlap: Optional[int] = 50) -> List[str]:\n",
    "    \"\"\"\n",
    "    Splits `text` into sentence-aware chunks that do not exceed `max_tokens` tokens.\n",
    "    Uses sentence boundaries and maintains an overlap of `overlap` tokens between chunks.\n",
    "    \n",
    "    Returns:\n",
    "        List[str]: List of plain-text chunks.\n",
    "    \"\"\"\n",
    "    sentences = [sent.text for sent in nlp(text).sents]\n",
    "    chunks = []\n",
    "    current_chunk = \"\"\n",
    "    current_tokens = 0\n",
    "\n",
    "    for sent in sentences:\n",
    "        sent_token_ids = tokenizer.encode(sent, add_special_tokens=False)\n",
    "        sent_tokens = len(sent_token_ids)\n",
    "        \n",
    "        if sent_tokens + overlap > max_tokens:\n",
    "            # Use sliding window with overlap\n",
    "            stride = max_tokens - overlap\n",
    "            for i in range(0, sent_tokens, stride):\n",
    "                chunk_ids = sent_token_ids[i:i+max_tokens]\n",
    "                chunk_text = tokenizer.decode(chunk_ids)\n",
    "                chunks.append(chunk_text.strip())\n",
    "            continue  # skip adding to current_chunk\n",
    "        \n",
    "        if current_tokens + sent_tokens + overlap > max_tokens:\n",
    "            if current_chunk.strip():\n",
    "                chunks.append(current_chunk.strip())\n",
    "            \n",
    "            # Overlap part:\n",
    "            current_chunk_tokens = tokenizer.encode(current_chunk, add_special_tokens=False)\n",
    "            overlap_chunk_tokens = current_chunk_tokens[-overlap:] if overlap > 0 else []\n",
    "            overlap_chunk = tokenizer.decode(overlap_chunk_tokens)\n",
    "            current_chunk = overlap_chunk + \" \" + sent\n",
    "            current_tokens = len(tokenizer.encode(current_chunk, add_special_tokens=False))\n",
    "            if current_tokens > max_tokens:\n",
    "                print(f\"⚠️ current_tokens is too long: {current_tokens} tokens\")\n",
    "        else:\n",
    "            current_chunk += \" \" + sent\n",
    "            current_tokens += sent_tokens\n",
    "\n",
    "    # Append last chunk\n",
    "    if current_chunk.strip():\n",
    "        chunks.append(current_chunk.strip())\n",
    "\n",
    "    return chunks"
   ]
  },
  {
   "cell_type": "code",
   "execution_count": 6,
   "id": "63eb3fd6-4389-4ad4-b50e-9f7ef5e03eae",
   "metadata": {},
   "outputs": [
    {
     "name": "stderr",
     "output_type": "stream",
     "text": [
      "Token indices sequence length is longer than the specified maximum sequence length for this model (521 > 512). Running this sequence through the model will result in indexing errors\n"
     ]
    }
   ],
   "source": [
    "if os.path.exists(SITES_ELEMENTS_WITH_REPLACED_URLS_PATH):\n",
    "    with open(SITES_ELEMENTS_WITH_REPLACED_URLS_PATH, 'r', encoding='utf-8') as file_s:\n",
    "        sites_elements = json.load(file_s)\n",
    "else:\n",
    "    raise ValueError(f\"Failed to open {SITES_ELEMENTS_WITH_REPLACED_URLS_PATH}\")\n",
    "\n",
    "sites_chunks = []\n",
    "for site_element in sites_elements:\n",
    "    # for 1 source text >1 chunks can be produced\n",
    "    site_chunks = sentence_aware_chunks(site_element['text'], max_tokens=MAX_TOKENS, overlap=OVERLAP)\n",
    "\n",
    "    # Including source for every chunk\n",
    "    for site_chunk in site_chunks:\n",
    "       sites_chunks.append({\"text\": site_chunk, \"source\": site_element[\"source\"]})"
   ]
  },
  {
   "cell_type": "markdown",
   "id": "48abca71-b5a1-40c6-b09e-501dcbc30afc",
   "metadata": {},
   "source": [
    "#### Embedding Vectors"
   ]
  },
  {
   "cell_type": "code",
   "execution_count": 8,
   "id": "38b81a01-30e5-4c6e-aeb7-a40dd4b1f8d0",
   "metadata": {},
   "outputs": [],
   "source": [
    "# Extract texts for embeddings\n",
    "texts = [item[\"text\"] for item in sites_chunks]\n",
    "metadata = sites_chunks  # same order!\n",
    "\n",
    "# Generate embeddings\n",
    "embeddings = embedding_model.encode(texts, convert_to_numpy=True)\n",
    "\n",
    "# Store in FAISS\n",
    "dimension = embeddings.shape[1]\n",
    "index = faiss.IndexFlatL2(dimension)\n",
    "index.add(np.array(embeddings))\n",
    "faiss.write_index(index, FAISS_INDEX_PATH)\n",
    "\n",
    "# Save metadata\n",
    "with open(FAISS_METADATA_PATH, \"wb\") as f:\n",
    "    pickle.dump(metadata, f)"
   ]
  },
  {
   "cell_type": "code",
   "execution_count": 16,
   "id": "095ec0d2-114d-4226-84ed-6fe989831b75",
   "metadata": {},
   "outputs": [],
   "source": [
    "# query = \"all the questions in the form, and submit the declaration online. You can also fill out a paper declaration and submit it at your\"\n",
    "query = \"Each month, your employer takes out an estimated portion of your salary for taxes. At the end of the year, this advance is adjusted\"\n",
    "\n",
    "matches = [text for text in texts if query in text]"
   ]
  },
  {
   "cell_type": "code",
   "execution_count": 17,
   "id": "ed126d6d-b6ea-4809-9462-aa271bacfdac",
   "metadata": {},
   "outputs": [
    {
     "data": {
      "text/plain": [
       "'## How to receive a tax refund?\\n Each month, your employer takes out an estimated portion of your salary for taxes. At the end of the year, this advance is adjusted based on your actual tax liability. If you’ve paid more in taxes than you owe, you’ll get a refund.\\xa0\\xa0\\n After completing your income declaration, you will be able to see if you have overpaid your taxes. Refunds are only possible from personal income tax (GPM). If you have overpaid your taxes, you can request a refund of the excess amount.'"
      ]
     },
     "execution_count": 17,
     "metadata": {},
     "output_type": "execute_result"
    }
   ],
   "source": [
    "matches[0]"
   ]
  },
  {
   "cell_type": "code",
   "execution_count": 15,
   "id": "095810d6-d414-4ef3-9959-3660be25a7ee",
   "metadata": {},
   "outputs": [
    {
     "data": {
      "text/plain": [
       "1"
      ]
     },
     "execution_count": 15,
     "metadata": {},
     "output_type": "execute_result"
    }
   ],
   "source": [
    "len(matches)"
   ]
  },
  {
   "cell_type": "markdown",
   "id": "12d8bc9b-8b0f-43b7-a1a2-77f357eabb26",
   "metadata": {},
   "source": [
    "## Generating Answers"
   ]
  },
  {
   "cell_type": "code",
   "execution_count": null,
   "id": "eb722eac-49e6-457b-a5a9-50d4bdb3bd5e",
   "metadata": {},
   "outputs": [
    {
     "name": "stdout",
     "output_type": "stream",
     "text": [
      "Result 1:\n",
      "🔹 Chunk: to worry about paying taxes directly — your employer handles this on your behalf. however, if you are self - employed, you are responsible for paying taxes yourself. # # other taxes corporate income tax ( known as pelno mokestis ) • Rate: 16% on the taxable profits.  \n",
      " • Contributors: Lithuanian entities and foreign entities' permanent establishments. \n",
      " • Exemptions: Entities with fewer than 10 employees and income under €300,000 are taxed at 0% during their first tax period.  \n",
      " Value Added Tax - VAT (knows as pridėtinės vertės mokestnis - PVM) \n",
      "• Rate: Standard rate is 21%. Reduced rates of 0%, 5%, and 9% apply to certain goods and services. \n",
      " • Application: Applies to most goods and services bought and sold for use or consumption.  \n",
      " Property Tax (known as nekilnojamo turto mokestis) \n",
      "• Rate: 0.5% (for property valued €150,000- €300,000); 1% (for property valued €300,000 - €500,000); 2% (for property valued over €500,000). \n",
      " • Contributors:  natural and legal persons of Lithuania and foreign states. \n",
      " Tax shall be paid after expiry of the year until 15 February of the next year.  \n",
      " Land Tax (known as žemės mokestis) \n",
      "• Rate: from 0.01 % to 4 % of the tax value of land. The specific rates of land tax are set individually by each municipality \n",
      "• Contributors: owner of the land – a natural and legal person \n",
      "• Tax shall be paid each year by 15 November. \n",
      " Inheritance Tax (known as paveldėjimo mokestis) \n",
      "• Rate: 5% (when value of inherited property does not exceed €150,000), 10% (when property value exceeds €150,000).\n",
      "🔗 Source: https://micenter.lt/en/taxes\n",
      "📏 Distance: 0.6203789\n",
      "\n",
      "Result 2:\n",
      "🔹 Chunk: Foreign permanent residents of Lithuania pay taxes to the Lithuanian government just like Lithuanian citizens. There are several types of taxes in Lithuania. Here's a breakdown of the key taxes and contributions you need to know about if you're living in Lithuania. \n",
      "## Taxes related to working in Lithuania\n",
      "State Social Insurance - SoDra Taxes (known as PSD and VSD) \n",
      "• Rate: Compulsory Health Insurance 6.98%; Pension Insurance - 8.72%; Sickness Insurance - 1.99%; Maternity Insurance - 1.81%; Unemployment Insurance - 1.31%. \n",
      " • Contributors: Both employers and employees contribute. Self-employed individuals also contribute, however their rates depend on the type of individual activity.  \n",
      " • Coverage: Provides benefits like sickness, maternity, disability, and more.  \n",
      " Personal Income Tax (knows as GPM) \n",
      "• Rate: Pay 20% if their wage is up to 60 average annual wages, or 32% if it exceeds that amount. 15% rate for sickness, maternity, paternity, childcare, and long-term employment allowances, as well as dividends. Individual Activities are taxed at 5-15%. \n",
      " • Contributors: shall be paid by an individual who has received income.  \n",
      " Tier II Pension (known as pensijų kaupimas) \n",
      "• Rate: 3% of your income goes to pension savings, with an additional 1.5% of the country’s average salary contributed by the State budget. \n",
      " • Contributors: Starting January 2 each year, all Lithuanian citizens and foreigners with residence permits aged 18 to 40 are automatically enrolled in the pension accumulation scheme, with the option to withdraw funds. \n",
      " If you are an employee with a contract, you don’t need to worry about paying taxes directly — your employer handles this on your behalf. However, if you are self-employed, you are responsible for paying taxes yourself. \n",
      " ## Other taxes\n",
      "Corporate Income Tax (known as pelno mokestis) \n",
      "•\n",
      "🔗 Source: https://micenter.lt/en/taxes\n",
      "📏 Distance: 0.6466896\n",
      "\n",
      "Result 3:\n",
      "🔹 Chunk: As a Lithuanian resident, you must report all your income earned during the year, both in Lithuania and abroad (except tax-free income), in your Annual Income Declaration. \n",
      " The declaration period typically starts in March, with the deadline for submitting your report to the tax authorities (known as Valstybinė mokesčių inspekcija - VMI) being May 2 of the following calendar year. \n",
      " ## How to fill in income declaration?\n",
      " To submit your declaration, log in to the EDS [URL_210] platform (electronic declaration system). Select the tax period (year) and open the form for filing the declaration, which is also available in English. This form will include information about your income that has already been submitted to VMI. Make sure all the data is correct, answer all the questions in the form, and submit the declaration online. You can also fill out a paper declaration and submit it at your local VMI office. Additionally, you can submit the declaration by phone at +370 5 260 5060.\n",
      "🔗 Source: https://micenter.lt/en/income-declaration\n",
      "📏 Distance: 0.6975342\n",
      "\n"
     ]
    }
   ],
   "source": [
    "# Load everything\n",
    "index = faiss.read_index(FAISS_INDEX_PATH)\n",
    "with open(FAISS_METADATA_PATH, \"rb\") as f:\n",
    "    metadata = pickle.load(f)\n",
    "\n",
    "# Search query\n",
    "query = \"How do I pay taxes in Lithuania?\"\n",
    "query_embedding = embedding_model.encode([query])\n",
    "\n",
    "# Search top 3 results\n",
    "D, I = index.search(query_embedding, k=3)\n",
    "\n",
    "for rank, (i, distance) in enumerate(zip(I[0], D[0]), start=1):\n",
    "    print(f\"Result {rank}:\")\n",
    "    print(\"🔹 Chunk:\", metadata[i][\"text\"])\n",
    "    print(\"🔗 Source:\", metadata[i][\"source\"])\n",
    "    print(\"📏 Distance:\", distance)\n",
    "    print()\n"
   ]
  }
 ],
 "metadata": {
  "kernelspec": {
   "display_name": "Python 3 (ipykernel)",
   "language": "python",
   "name": "python3"
  },
  "language_info": {
   "codemirror_mode": {
    "name": "ipython",
    "version": 3
   },
   "file_extension": ".py",
   "mimetype": "text/x-python",
   "name": "python",
   "nbconvert_exporter": "python",
   "pygments_lexer": "ipython3",
   "version": "3.12.9"
  }
 },
 "nbformat": 4,
 "nbformat_minor": 5
}
